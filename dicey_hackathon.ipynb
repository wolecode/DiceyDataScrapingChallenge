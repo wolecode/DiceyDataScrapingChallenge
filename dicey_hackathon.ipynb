{
 "cells": [
  {
   "cell_type": "code",
   "execution_count": 251,
   "metadata": {},
   "outputs": [],
   "source": [
    "import pandas as pd\n",
    "import numpy as np\n",
    "import requests\n",
    "from bs4 import BeautifulSoup\n",
    "from urllib.request import urlopen, Request\n",
    "import json\n",
    "import re\n",
    "from selenium import webdriver\n",
    "import datetime as dt\n",
    "import random"
   ]
  },
  {
   "attachments": {},
   "cell_type": "markdown",
   "metadata": {},
   "source": [
    "RIGHT_MOVE DATA SCRAPING"
   ]
  },
  {
   "cell_type": "code",
   "execution_count": 308,
   "metadata": {},
   "outputs": [],
   "source": [
    "def get_page_details_rightMove(response):\n",
    "    soup = BeautifulSoup(response.text)\n",
    "    all_script = soup.find_all('script')\n",
    "    script_filter = [i for i in all_script if len(i.attrs) == 0]\n",
    "    con = script_filter[2].contents[0][19:]\n",
    "    new_con = json.loads(con)\n",
    "    return new_con['properties']"
   ]
  },
  {
   "cell_type": "code",
   "execution_count": 309,
   "metadata": {},
   "outputs": [],
   "source": [
    "'''\n",
    "transactionType: one(1) represent sales transaction, and zero(0) represent rent transaction\n",
    "'''\n",
    "def get_web_details_rightMove(page, transactionType):\n",
    "    if transactionType == 1:\n",
    "        if page == 0:\n",
    "            response = requests.get(f'https://www.rightmove.co.uk/property-for-sale/find.html?locationIdentifier=REGION%5E87490&propertyTypes=&includeSSTC=false&mustHave=&dontShow=&furnishTypes=&keywords=')\n",
    "            return get_page_details_rightMove(response)\n",
    "        else:\n",
    "            response = requests.get(f'https://www.rightmove.co.uk/property-for-sale/find.html?locationIdentifier=REGION%5E87490&index={page}&propertyTypes=&includeSSTC=false&mustHave=&dontShow=&furnishTypes=&keywords=')\n",
    "            return get_page_details_rightMove(response)\n",
    "    else:\n",
    "        if page == 0:\n",
    "            response = requests.get(f'https://www.rightmove.co.uk/property-to-rent/find.html?locationIdentifier=REGION%5E87490&propertyTypes=&includeLetAgreed=false&mustHave=&dontShow=&furnishTypes=&keywords=')\n",
    "            return get_page_details_rightMove(response)\n",
    "        else:\n",
    "            response = requests.get(f'https://www.rightmove.co.uk/property-to-rent/find.html?locationIdentifier=REGION%5E87490&index={page}&propertyTypes=&includeSSTC=false&mustHave=&dontShow=&furnishTypes=&keywords=')\n",
    "            return get_page_details_rightMove(response)\n",
    "\n"
   ]
  },
  {
   "cell_type": "code",
   "execution_count": 188,
   "metadata": {},
   "outputs": [],
   "source": [
    "listing_sources = ['Rightmove', 'Zoopla', 'On The Market(OTM)']\n",
    "parent_url = ['https://www.rightmove.co.uk', 'https://www.zoopla.co.uk', 'https://www.onthemarket.com']\n",
    "\n",
    "pages_dict = {'transaction_type':[], 'bedrooms':[], 'bathrooms':[], 'description':[], 'property_type':[], 'price':[], 'location':[],\n",
    "           'post_code':[], 'latitude':[],'longitude':[], 'agent':[], 'agent_contact':[], 'listing_source':[], 'listing_url':[], 'date':[]}"
   ]
  },
  {
   "cell_type": "code",
   "execution_count": 43,
   "metadata": {},
   "outputs": [],
   "source": [
    "def getPriceRegex(value):\n",
    "    price_regex = '\\d+,?\\d*,?\\d*,?\\d*'\n",
    "    return int(re.search(price_regex, value)[0].replace(\",\",\"\"))"
   ]
  },
  {
   "cell_type": "code",
   "execution_count": 44,
   "metadata": {},
   "outputs": [],
   "source": [
    "def getPostcodeRegex(value):\n",
    "    postCode_regex = '([A-Z]+\\d+[A-Z]*)'\n",
    "    if re.search(postCode_regex, value) is None:\n",
    "        return None\n",
    "    else:\n",
    "        return re.search(postCode_regex, value)[0]"
   ]
  },
  {
   "cell_type": "code",
   "execution_count": 303,
   "metadata": {},
   "outputs": [],
   "source": [
    "def getActualDate_rightMove(value):\n",
    "    todays_date = dt.date.today()\n",
    "    if value == 'today':\n",
    "        return str(todays_date.day)+\"/\"+str(todays_date.month)+\"/\"+str(todays_date.year)\n",
    "    elif value == 'yesterday':\n",
    "        td = dt.timedelta(days=1)\n",
    "        yd = todays_date - td\n",
    "        return str(yd.day)+\"/\"+str(yd.month)+\"/\"+str(yd.year)\n",
    "    else:\n",
    "        return value\n",
    "\n",
    "    \n",
    "    "
   ]
  },
  {
   "cell_type": "code",
   "execution_count": 315,
   "metadata": {},
   "outputs": [],
   "source": [
    "#Dataframe for combining all the data from each website\n",
    "pages_df = pd.DataFrame()"
   ]
  },
  {
   "cell_type": "code",
   "execution_count": 310,
   "metadata": {},
   "outputs": [],
   "source": [
    "\n",
    "\n",
    "\n",
    "def getData_rightMove(transactionType):\n",
    "    global pages_dict\n",
    "    pages_dict = {i:[] for i in pages_dict}\n",
    "    for i in range(0, 985, 24):\n",
    "        page_details = get_web_details_rightMove(i, transactionType)\n",
    "        for j in page_details:\n",
    "            pages_dict['transaction_type'].append(j['transactionType'])\n",
    "            pages_dict['bedrooms'].append(j['bedrooms'])\n",
    "            pages_dict['bathrooms'].append(j['bathrooms'])\n",
    "            pages_dict['description'].append(j['summary'])\n",
    "            pages_dict['property_type'].append(j['propertySubType'])\n",
    "            pages_dict['price'].append(j['price']['amount'] if transactionType == 1 else getPriceRegex(j['price']['displayPrices'][0]['displayPrice']))\n",
    "            pages_dict['location'].append(j['displayAddress'])\n",
    "            pages_dict['post_code'].append(getPostcodeRegex(j['displayAddress']))\n",
    "            pages_dict['latitude'].append(j['location']['latitude'])\n",
    "            pages_dict['longitude'].append(j['location']['longitude'])\n",
    "            pages_dict['agent'].append(j['customer']['brandTradingName'])\n",
    "            pages_dict['agent_contact'].append(j['customer']['contactTelephone'])\n",
    "            pages_dict['listing_source'].append(listing_sources[0])\n",
    "            pages_dict['listing_url'].append(parent_url[0] + j['propertyUrl'])\n",
    "            pages_dict['date'].append(getActualDate_rightMove(j['addedOrReduced'].split(\" \").pop()))\n",
    "    return pages_dict\n",
    "    \n"
   ]
  },
  {
   "cell_type": "code",
   "execution_count": 317,
   "metadata": {},
   "outputs": [
    {
     "name": "stderr",
     "output_type": "stream",
     "text": [
      "C:\\Users\\AKINDE KOLAWOLE\\AppData\\Local\\Temp\\ipykernel_15432\\3032746761.py:5: UserWarning: Parsing dates in DD/MM/YYYY format when dayfirst=False (the default) was specified. This may lead to inconsistently parsed dates! Specify a format to ensure consistent parsing.\n",
      "  rightMoveRent_df['date'] = pd.to_datetime(rightMoveRent_df['date'])\n",
      "C:\\Users\\AKINDE KOLAWOLE\\AppData\\Local\\Temp\\ipykernel_15432\\3032746761.py:7: FutureWarning: The frame.append method is deprecated and will be removed from pandas in a future version. Use pandas.concat instead.\n",
      "  pages_df = pages_df.append(rightMoveRent_df, ignore_index=True)\n"
     ]
    }
   ],
   "source": [
    "#Scraping rent data from rightMove website\n",
    "rightMoveRent_df = pd.DataFrame(getData_rightMove(0))\n",
    "rightMoveRent_df['bathrooms'] = rightMoveRent_df.bathrooms.fillna(0).astype(int)\n",
    "rightMoveRent_df['bedrooms'] = rightMoveRent_df.bedrooms.fillna(0).astype(int)\n",
    "rightMoveRent_df['date'] = pd.to_datetime(rightMoveRent_df['date'])\n",
    "\n",
    "pages_df = pages_df.append(rightMoveRent_df, ignore_index=True)\n"
   ]
  },
  {
   "cell_type": "code",
   "execution_count": 321,
   "metadata": {},
   "outputs": [
    {
     "name": "stderr",
     "output_type": "stream",
     "text": [
      "C:\\Users\\AKINDE KOLAWOLE\\AppData\\Local\\Temp\\ipykernel_15432\\743889929.py:5: UserWarning: Parsing dates in DD/MM/YYYY format when dayfirst=False (the default) was specified. This may lead to inconsistently parsed dates! Specify a format to ensure consistent parsing.\n",
      "  rightMoveSale_df['date'] = pd.to_datetime(rightMoveSale_df['date'])\n",
      "C:\\Users\\AKINDE KOLAWOLE\\AppData\\Local\\Temp\\ipykernel_15432\\743889929.py:8: FutureWarning: The frame.append method is deprecated and will be removed from pandas in a future version. Use pandas.concat instead.\n",
      "  pages_df = pages_df.append(rightMoveSale_df, ignore_index=True)\n"
     ]
    }
   ],
   "source": [
    "#Scraping sales data from rightMove website\n",
    "rightMoveSale_df = pd.DataFrame(getData_rightMove(1))\n",
    "rightMoveSale_df['bathrooms'] = rightMoveSale_df.bathrooms.fillna(0).astype(int)\n",
    "rightMoveSale_df['bedrooms'] = rightMoveSale_df.bedrooms.fillna(0).astype(int)\n",
    "rightMoveSale_df['date'] = pd.to_datetime(rightMoveSale_df['date'])\n",
    "rightMoveSale_df['transaction_type'] = rightMoveSale_df['transaction_type'].map(lambda a: 'sale')\n",
    "\n",
    "pages_df = pages_df.append(rightMoveSale_df, ignore_index=True)"
   ]
  },
  {
   "attachments": {},
   "cell_type": "markdown",
   "metadata": {},
   "source": [
    "ZOOPLA DATA SCRAPING"
   ]
  },
  {
   "cell_type": "code",
   "execution_count": 377,
   "metadata": {},
   "outputs": [],
   "source": [
    "def get_page_details_zoopla(response):\n",
    "    soup = BeautifulSoup(response)\n",
    "    zoopla_content = soup.find(\"script\", attrs={'id':'__NEXT_DATA__'}).contents[0]\n",
    "    zoopla_dict = json.loads(zoopla_content)\n",
    "    property_list = zoopla_dict['props']['pageProps']['regularListingsFormatted']\n",
    "    return property_list"
   ]
  },
  {
   "cell_type": "code",
   "execution_count": 431,
   "metadata": {},
   "outputs": [],
   "source": [
    "def get_web_details_zoopla(page, transactionType):\n",
    "    if transactionType == 0:\n",
    "        driver = webdriver.Chrome()\n",
    "        try:\n",
    "            driver.get(f'https://www.zoopla.co.uk/to-rent/property/london/?price_frequency=per_month&q=London&results_sort=newest_listings&search_source=to-rent&pn={page}')\n",
    "            page_details = driver.page_source\n",
    "            driver.close()\n",
    "            return get_page_details_zoopla(page_details)\n",
    "        except:\n",
    "            driver.refresh()\n",
    "            page_details = driver.page_source\n",
    "            driver.close()\n",
    "            return get_page_details_zoopla(page_details)\n",
    "    else:\n",
    "        driver = webdriver.Chrome()\n",
    "        try:\n",
    "            driver.get(f'https://www.zoopla.co.uk/for-sale/property/london/?q=London&results_sort=newest_listings&search_source=for-sale&pn={page}')\n",
    "            page_details = driver.page_source\n",
    "            driver.close()\n",
    "            return get_page_details_zoopla(page_details)\n",
    "        except:\n",
    "            driver.refresh()\n",
    "            page_details = driver.page_source\n",
    "            driver.close()\n",
    "            return get_page_details_zoopla(page_details)\n"
   ]
  },
  {
   "cell_type": "code",
   "execution_count": 169,
   "metadata": {},
   "outputs": [],
   "source": [
    "def getBedAndBathroomData(value, item):\n",
    "    for i in value:\n",
    "        if list(i.values()).__contains__(item):\n",
    "            return int(i['content'])\n",
    "    return None"
   ]
  },
  {
   "cell_type": "code",
   "execution_count": 380,
   "metadata": {},
   "outputs": [],
   "source": [
    "def getTransactionType_zoopla(value, transactionType):\n",
    "    if transactionType == 0:\n",
    "        if re.search('rent', value) is None:\n",
    "            return 'rent'\n",
    "        else:\n",
    "            return re.search('rent', value)[0]\n",
    "    else:\n",
    "        if re.search('sale', value) is None:\n",
    "            return 'sale'\n",
    "        else:\n",
    "            return re.search('sale', value)[0]\n",
    "    "
   ]
  },
  {
   "cell_type": "code",
   "execution_count": 389,
   "metadata": {},
   "outputs": [],
   "source": [
    "\n",
    "def getData_zoopla(transactionType):\n",
    "    global pages_dict\n",
    "    pages_dict = {i:[] for i in pages_dict}\n",
    "    for i in range(1, 41):\n",
    "        page_details = get_web_details_zoopla(i, transactionType)\n",
    "        for j in page_details:\n",
    "            pages_dict['transaction_type'].append(getTransactionType_zoopla(j['listingUris']['detail'], transactionType))\n",
    "            pages_dict['bedrooms'].append(getBedAndBathroomData(j['features'], 'bed'))\n",
    "            pages_dict['bathrooms'].append(getBedAndBathroomData(j['features'], 'bath'))\n",
    "            pages_dict['description'].append(j['summaryDescription'])\n",
    "            pages_dict['property_type'].append(j['propertyType'])\n",
    "            pages_dict['price'].append(getPriceRegex(j['price']))\n",
    "            pages_dict['location'].append(j['address'])\n",
    "            pages_dict['post_code'].append(getPostcodeRegex(j['address']))\n",
    "            pages_dict['latitude'].append(j['location']['coordinates']['latitude'])\n",
    "            pages_dict['longitude'].append(j['location']['coordinates']['longitude'])\n",
    "            pages_dict['agent'].append(j['branch']['name'])\n",
    "            pages_dict['agent_contact'].append(j['branch']['phone'])\n",
    "            pages_dict['listing_source'].append(listing_sources[1])\n",
    "            pages_dict['listing_url'].append(parent_url[1] + j['listingUris']['detail'])\n",
    "            pages_dict['date'].append(j['lastPublishedDate'][0:10])\n",
    "    return pages_dict\n",
    "\n"
   ]
  },
  {
   "cell_type": "code",
   "execution_count": 390,
   "metadata": {},
   "outputs": [
    {
     "name": "stderr",
     "output_type": "stream",
     "text": [
      "C:\\Users\\AKINDE KOLAWOLE\\AppData\\Local\\Temp\\ipykernel_15432\\1524466635.py:7: FutureWarning: The frame.append method is deprecated and will be removed from pandas in a future version. Use pandas.concat instead.\n",
      "  pages_df = pages_df.append(zooplaRent_df, ignore_index=True)\n"
     ]
    }
   ],
   "source": [
    "#Scraping rent data from zoopla website\n",
    "zooplaRent_df = pd.DataFrame(getData_zoopla(0))\n",
    "zooplaRent_df['bathrooms'] = zooplaRent_df.bathrooms.fillna(0).astype(int)\n",
    "zooplaRent_df['bedrooms'] = zooplaRent_df.bedrooms.fillna(0).astype(int)\n",
    "zooplaRent_df['date'] = pd.to_datetime(zooplaRent_df['date'])\n",
    "\n",
    "pages_df = pages_df.append(zooplaRent_df, ignore_index=True)"
   ]
  },
  {
   "cell_type": "code",
   "execution_count": 395,
   "metadata": {},
   "outputs": [
    {
     "name": "stderr",
     "output_type": "stream",
     "text": [
      "C:\\Users\\AKINDE KOLAWOLE\\AppData\\Local\\Temp\\ipykernel_15432\\481365340.py:7: FutureWarning: The frame.append method is deprecated and will be removed from pandas in a future version. Use pandas.concat instead.\n",
      "  pages_df = pages_df.append(zooplaSale_df, ignore_index=True)\n"
     ]
    }
   ],
   "source": [
    "#Scraping sales data from zoopla website\n",
    "zooplaSale_df = pd.DataFrame(getData_zoopla(1))\n",
    "zooplaSale_df['bathrooms'] = zooplaSale_df.bathrooms.fillna(0).astype(int)\n",
    "zooplaSale_df['bedrooms'] = zooplaSale_df.bedrooms.fillna(0).astype(int)\n",
    "zooplaSale_df['date'] = pd.to_datetime(zooplaSale_df['date'])\n",
    "\n",
    "pages_df = pages_df.append(zooplaSale_df, ignore_index=True)"
   ]
  },
  {
   "attachments": {},
   "cell_type": "markdown",
   "metadata": {},
   "source": [
    "ON_THE_MARKET DATA SCRAPING"
   ]
  },
  {
   "cell_type": "code",
   "execution_count": 270,
   "metadata": {},
   "outputs": [],
   "source": [
    "def find_required_tag(element):\n",
    "    return element.has_attr('type') and repr(element.string).__contains__('__OTM__.jsonData')"
   ]
  },
  {
   "cell_type": "code",
   "execution_count": 420,
   "metadata": {},
   "outputs": [],
   "source": [
    "def get_page_details_OTM(response, personal_or_general):\n",
    "    if personal_or_general == 1:\n",
    "        soup = BeautifulSoup(response)\n",
    "        required_tag = soup.find(find_required_tag).string\n",
    "        extract = required_tag[required_tag.index('__OTM__.jsonData') + 19 : required_tag.index('__OTM__.globals') - 1].strip(';\\n')\n",
    "        property_list = json.loads(extract)\n",
    "        return property_list\n",
    "    else:\n",
    "        soup = BeautifulSoup(response)\n",
    "        required_tag = soup.find(find_required_tag).string\n",
    "        extract = required_tag[required_tag.index('__OTM__.jsonData') + 19 : required_tag.index('__OTM__.globals') - 1].strip(';\\n')\n",
    "        property_list = json.loads(extract)['properties']\n",
    "        return property_list"
   ]
  },
  {
   "cell_type": "code",
   "execution_count": 419,
   "metadata": {},
   "outputs": [],
   "source": [
    "def get_web_details_OTM(page, transactionType):\n",
    "    if transactionType == 0:\n",
    "        driver = webdriver.Chrome()\n",
    "        try:\n",
    "            driver.get(f'https://www.onthemarket.com/to-rent/property/london/?page={page}&view=grid')\n",
    "            page_details = driver.page_source\n",
    "            driver.close()\n",
    "            return get_page_details_OTM(page_details, 0)\n",
    "        except:\n",
    "            driver.refresh()\n",
    "            page_details = driver.page_source\n",
    "            driver.close()\n",
    "            return get_page_details_OTM(page_details, 0)\n",
    "    else:\n",
    "        driver = webdriver.Chrome()\n",
    "        try:\n",
    "            driver.get(f'https://www.onthemarket.com/for-sale/property/london/?page={page}&view=grid')\n",
    "            page_details = driver.page_source\n",
    "            driver.close()\n",
    "            return get_page_details_OTM(page_details, 0)\n",
    "        except:\n",
    "            driver.refresh()\n",
    "            page_details = driver.page_source\n",
    "            driver.close()\n",
    "            return get_page_details_OTM(page_details, 0)"
   ]
  },
  {
   "cell_type": "code",
   "execution_count": 418,
   "metadata": {},
   "outputs": [],
   "source": [
    "def get_web_details_OTM_personal(pageLink):\n",
    "    driver = webdriver.Chrome()\n",
    "    try:\n",
    "        driver.get(f'https://www.onthemarket.com{pageLink}')\n",
    "        page_details = driver.page_source\n",
    "        driver.close()\n",
    "        return get_page_details_OTM(page_details, 1)\n",
    "    except:\n",
    "        driver.refresh()\n",
    "        page_details = driver.page_source\n",
    "        driver.close()\n",
    "        return get_page_details_OTM(page_details, 1)"
   ]
  },
  {
   "cell_type": "code",
   "execution_count": 273,
   "metadata": {},
   "outputs": [],
   "source": [
    "def getTransactionType_OTM(value):\n",
    "    if value:\n",
    "        return 'sale'\n",
    "    else:\n",
    "        return 'rent'"
   ]
  },
  {
   "cell_type": "code",
   "execution_count": 274,
   "metadata": {},
   "outputs": [],
   "source": [
    "def getActualDate_OTM(value):\n",
    "    reg = '\\d+'\n",
    "    ran = [2,3,4,5,6]\n",
    "    ran2 = [1,2,3,4]\n",
    "    extract = re.search(reg, value)\n",
    "    if extract is None:\n",
    "        day = value.split(\" \")[1]\n",
    "        actual_day = dt.datetime.today()\n",
    "        previous_day = dt.timedelta(days=1)\n",
    "        if day == 'today':\n",
    "            return str(actual_day.day)+\"/\"+str(actual_day.month)+\"/\"+str(actual_day.year)\n",
    "        else:\n",
    "            new_day = actual_day - previous_day\n",
    "            return str(new_day.day)+\"/\"+str(new_day.month)+\"/\"+str(new_day.year)\n",
    "\n",
    "    else:\n",
    "        days = int(extract[0])\n",
    "        if days == 7:\n",
    "            previous_days = dt.timedelta(days=random.choice(ran))\n",
    "            actual_day = dt.datetime.today() - previous_days\n",
    "            return str(actual_day.day)+\"/\"+str(actual_day.month)+\"/\"+str(actual_day.year)\n",
    "        else:\n",
    "            previous_days = dt.timedelta(days=(random.choice(ran2) + days))\n",
    "            actual_day = dt.datetime.today() - previous_days\n",
    "            return str(actual_day.day)+\"/\"+str(actual_day.month)+\"/\"+str(actual_day.year)\n"
   ]
  },
  {
   "cell_type": "code",
   "execution_count": 297,
   "metadata": {},
   "outputs": [],
   "source": [
    "def getData_OTM(transactionType):\n",
    "    global pages_dict\n",
    "    pages_dict = {i:[] for i in pages_dict}\n",
    "    for i in range(0, 42):\n",
    "        page_details = get_web_details_OTM(i, transactionType)\n",
    "\n",
    "        for j in page_details:\n",
    "            if j.__contains__('property-link'):\n",
    "                pp = get_web_details_OTM_personal(j['property-link'])\n",
    "                pages_dict['transaction_type'].append(getTransactionType_OTM(pp['for-sale?']))\n",
    "                pages_dict['bedrooms'].append(pp['bedrooms'])\n",
    "                pages_dict['bathrooms'].append(pp['bathrooms'])\n",
    "                pages_dict['description'].append(pp['description'])\n",
    "                pages_dict['property_type'].append(pp['humanised-property-type'])\n",
    "                pages_dict['price'].append(getPriceRegex(pp['price']))\n",
    "                pages_dict['location'].append(pp['display_address'])\n",
    "                pages_dict['post_code'].append(getPostcodeRegex(pp['display_address']))\n",
    "                pages_dict['latitude'].append(pp['location']['lat'])\n",
    "                pages_dict['longitude'].append(pp['location']['lon'])\n",
    "                pages_dict['agent'].append(pp['agent']['name'])\n",
    "                pages_dict['agent_contact'].append(pp['agent']['telephone'])\n",
    "                pages_dict['listing_source'].append(listing_sources[2])\n",
    "                pages_dict['listing_url'].append(parent_url[2] + pp['property-link'])\n",
    "                pages_dict['date'].append(getActualDate_OTM(pp['days-since-added-reduced']))\n",
    "            else:\n",
    "                continue\n",
    "    return pages_dict\n"
   ]
  },
  {
   "cell_type": "code",
   "execution_count": 432,
   "metadata": {},
   "outputs": [
    {
     "data": {
      "text/plain": [
       "\"otmRent_df = pd.DataFrame(getData_OTM(0))\\notmRent_df['bathrooms'] = otmRent_df.bathrooms.fillna(0).astype(int)\\notmRent_df['bedrooms'] = otmRent_df.bedrooms.fillna(0).astype(int)\\notmRent_df['date'] = pd.to_datetime(otmRent_df['date'])\\n\\npages_df = pages_df.append(otmRent_df, ignore_index=True)\""
      ]
     },
     "execution_count": 432,
     "metadata": {},
     "output_type": "execute_result"
    }
   ],
   "source": [
    "#Scraping rent data from ON THE MARKET website\n",
    "otmRent_df = pd.DataFrame(getData_OTM(0))\n",
    "otmRent_df['bathrooms'] = otmRent_df.bathrooms.fillna(0).astype(int)\n",
    "otmRent_df['bedrooms'] = otmRent_df.bedrooms.fillna(0).astype(int)\n",
    "otmRent_df['date'] = pd.to_datetime(otmRent_df['date'])\n",
    "\n",
    "pages_df = pages_df.append(otmRent_df, ignore_index=True)"
   ]
  },
  {
   "cell_type": "code",
   "execution_count": 444,
   "metadata": {},
   "outputs": [
    {
     "data": {
      "text/plain": [
       "\"otmSale_df = pd.DataFrame(getData_OTM(1))\\notmSale_df['bathrooms'] = otmSale_df.bathrooms.fillna(0).astype(int)\\notmSale_df['bedrooms'] = otmSale_df.bedrooms.fillna(0).astype(int)\\notmSale_df['date'] = pd.to_datetime(otmSale_df['date'])\\n\\npages_df = pages_df.append(otmSale_df, ignore_index=True)\""
      ]
     },
     "execution_count": 444,
     "metadata": {},
     "output_type": "execute_result"
    }
   ],
   "source": [
    "#Scraping sale data from ON THE MARKET website\n",
    "otmSale_df = pd.DataFrame(getData_OTM(1))\n",
    "otmSale_df['bathrooms'] = otmSale_df.bathrooms.fillna(0).astype(int)\n",
    "otmSale_df['bedrooms'] = otmSale_df.bedrooms.fillna(0).astype(int)\n",
    "otmSale_df['date'] = pd.to_datetime(otmSale_df['date'])\n",
    "\n",
    "pages_df = pages_df.append(otmSale_df, ignore_index=True)"
   ]
  },
  {
   "cell_type": "code",
   "execution_count": null,
   "metadata": {},
   "outputs": [],
   "source": []
  }
 ],
 "metadata": {
  "kernelspec": {
   "display_name": "personal_environment",
   "language": "python",
   "name": "python3"
  },
  "language_info": {
   "codemirror_mode": {
    "name": "ipython",
    "version": 3
   },
   "file_extension": ".py",
   "mimetype": "text/x-python",
   "name": "python",
   "nbconvert_exporter": "python",
   "pygments_lexer": "ipython3",
   "version": "3.11.2"
  },
  "orig_nbformat": 4,
  "vscode": {
   "interpreter": {
    "hash": "f79304194ce3e784d901a91386cef68ff8a8f682f29fff19714ccf7bdb976e92"
   }
  }
 },
 "nbformat": 4,
 "nbformat_minor": 2
}
